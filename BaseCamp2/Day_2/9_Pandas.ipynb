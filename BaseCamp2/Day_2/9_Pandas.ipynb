{
 "cells": [
  {
   "cell_type": "markdown",
   "metadata": {},
   "source": [
    "### Pandas\n",
    "pandas a python library that is extensively used for data analytics, ML and other Data fields  \n",
    "It provides possibility to organise data into something called Dataframe, which acts as a table of data (2D)  \n",
    "It is organised into rows and columns with named indices"
   ]
  },
  {
   "cell_type": "code",
   "execution_count": 1,
   "metadata": {},
   "outputs": [],
   "source": [
    "import pandas as pd"
   ]
  },
  {
   "cell_type": "code",
   "execution_count": 2,
   "metadata": {},
   "outputs": [
    {
     "data": {
      "text/html": [
       "<div>\n",
       "<style scoped>\n",
       "    .dataframe tbody tr th:only-of-type {\n",
       "        vertical-align: middle;\n",
       "    }\n",
       "\n",
       "    .dataframe tbody tr th {\n",
       "        vertical-align: top;\n",
       "    }\n",
       "\n",
       "    .dataframe thead th {\n",
       "        text-align: right;\n",
       "    }\n",
       "</style>\n",
       "<table border=\"1\" class=\"dataframe\">\n",
       "  <thead>\n",
       "    <tr style=\"text-align: right;\">\n",
       "      <th></th>\n",
       "      <th>Name</th>\n",
       "      <th>Id</th>\n",
       "      <th>Course</th>\n",
       "      <th>Batch</th>\n",
       "    </tr>\n",
       "  </thead>\n",
       "  <tbody>\n",
       "    <tr>\n",
       "      <th>0</th>\n",
       "      <td>Vishnu</td>\n",
       "      <td>234</td>\n",
       "      <td>ML</td>\n",
       "      <td>C1</td>\n",
       "    </tr>\n",
       "    <tr>\n",
       "      <th>1</th>\n",
       "      <td>Ram</td>\n",
       "      <td>201</td>\n",
       "      <td>GenAI</td>\n",
       "      <td>C2</td>\n",
       "    </tr>\n",
       "    <tr>\n",
       "      <th>2</th>\n",
       "      <td>Bharat</td>\n",
       "      <td>78</td>\n",
       "      <td>Python</td>\n",
       "      <td>C1</td>\n",
       "    </tr>\n",
       "  </tbody>\n",
       "</table>\n",
       "</div>"
      ],
      "text/plain": [
       "     Name   Id  Course Batch\n",
       "0  Vishnu  234      ML    C1\n",
       "1     Ram  201   GenAI    C2\n",
       "2  Bharat   78  Python    C1"
      ]
     },
     "execution_count": 2,
     "metadata": {},
     "output_type": "execute_result"
    }
   ],
   "source": [
    "# Create a data frame using the pandas function\n",
    "DF = pd.DataFrame ({\n",
    "                    'Name' : ['Vishnu', \"Ram\", 'Bharat'], \n",
    "                    'Id' : [234, 201, 78],\n",
    "                    'Course' : ['ML', 'GenAI', \"Python\"],\n",
    "                    'Batch' : ['C1', 'C2', 'C1']})\n",
    "DF"
   ]
  },
  {
   "cell_type": "code",
   "execution_count": 3,
   "metadata": {},
   "outputs": [
    {
     "name": "stdout",
     "output_type": "stream",
     "text": [
      "Data type : \n",
      " Name      object\n",
      "Id         int64\n",
      "Course    object\n",
      "Batch     object\n",
      "dtype: object\n",
      "Index : \n",
      " RangeIndex(start=0, stop=3, step=1)\n",
      "Number of Records : \n",
      " 3\n",
      "Number of Fields : \n",
      " 4\n"
     ]
    }
   ],
   "source": [
    "# Let us understand how is it organised\n",
    "print (\"Data type : \\n\", DF.dtypes)\n",
    "\n",
    "print (\"Index : \\n\", DF.index)\n",
    "\n",
    "print (\"Number of Records : \\n\", len(DF))\n",
    "\n",
    "print (\"Number of Fields : \\n\", len(DF.columns))"
   ]
  },
  {
   "cell_type": "code",
   "execution_count": 4,
   "metadata": {},
   "outputs": [
    {
     "name": "stdout",
     "output_type": "stream",
     "text": [
      "Type : \n",
      " <class 'pandas.core.series.Series'>\n",
      "Content : \n",
      " 0    Vishnu\n",
      "1       Ram\n",
      "2    Bharat\n",
      "Name: Name, dtype: object\n"
     ]
    }
   ],
   "source": [
    "# Access specific Column\n",
    "Names = DF['Name']\n",
    "\n",
    "print (\"Type : \\n\", type (Names))\n",
    "print (\"Content : \\n\",  Names)"
   ]
  },
  {
   "cell_type": "code",
   "execution_count": 5,
   "metadata": {},
   "outputs": [
    {
     "name": "stdout",
     "output_type": "stream",
     "text": [
      "Type : \n",
      " <class 'pandas.core.series.Series'>\n",
      "Content : \n",
      " Name        Ram\n",
      "Id          201\n",
      "Course    GenAI\n",
      "Batch        C2\n",
      "Name: 1, dtype: object\n"
     ]
    }
   ],
   "source": [
    "# Access specific Row\n",
    "Rec_1 = DF.iloc [1] # Access a row based on the index position\n",
    "\n",
    "print (\"Type : \\n\", type (Rec_1))\n",
    "print (\"Content : \\n\",  Rec_1)"
   ]
  },
  {
   "cell_type": "code",
   "execution_count": 6,
   "metadata": {},
   "outputs": [
    {
     "name": "stdout",
     "output_type": "stream",
     "text": [
      "Type : \n",
      " <class 'pandas.core.frame.DataFrame'>\n",
      "Content : \n",
      "      Name\n",
      "0  Vishnu\n",
      "1     Ram\n",
      "2  Bharat\n"
     ]
    }
   ],
   "source": [
    "# Make specific Column in a data frame\n",
    "Names = DF[['Name']]\n",
    "\n",
    "print (\"Type : \\n\", type (Names))\n",
    "print (\"Content : \\n\",  Names)"
   ]
  },
  {
   "cell_type": "code",
   "execution_count": 7,
   "metadata": {},
   "outputs": [
    {
     "data": {
      "text/html": [
       "<div>\n",
       "<style scoped>\n",
       "    .dataframe tbody tr th:only-of-type {\n",
       "        vertical-align: middle;\n",
       "    }\n",
       "\n",
       "    .dataframe tbody tr th {\n",
       "        vertical-align: top;\n",
       "    }\n",
       "\n",
       "    .dataframe thead th {\n",
       "        text-align: right;\n",
       "    }\n",
       "</style>\n",
       "<table border=\"1\" class=\"dataframe\">\n",
       "  <thead>\n",
       "    <tr style=\"text-align: right;\">\n",
       "      <th></th>\n",
       "      <th>Name</th>\n",
       "      <th>Id</th>\n",
       "      <th>Course</th>\n",
       "      <th>Batch</th>\n",
       "    </tr>\n",
       "  </thead>\n",
       "  <tbody>\n",
       "    <tr>\n",
       "      <th>0</th>\n",
       "      <td>Vishnu</td>\n",
       "      <td>234</td>\n",
       "      <td>ML</td>\n",
       "      <td>C1</td>\n",
       "    </tr>\n",
       "    <tr>\n",
       "      <th>2</th>\n",
       "      <td>Bharat</td>\n",
       "      <td>78</td>\n",
       "      <td>Python</td>\n",
       "      <td>C1</td>\n",
       "    </tr>\n",
       "  </tbody>\n",
       "</table>\n",
       "</div>"
      ],
      "text/plain": [
       "     Name   Id  Course Batch\n",
       "0  Vishnu  234      ML    C1\n",
       "2  Bharat   78  Python    C1"
      ]
     },
     "execution_count": 7,
     "metadata": {},
     "output_type": "execute_result"
    }
   ],
   "source": [
    "# Filter out rows based on condition\n",
    "Filtered = DF[DF['Batch'] == 'C1']\n",
    "Filtered"
   ]
  },
  {
   "cell_type": "code",
   "execution_count": 8,
   "metadata": {},
   "outputs": [
    {
     "data": {
      "text/html": [
       "<div>\n",
       "<style scoped>\n",
       "    .dataframe tbody tr th:only-of-type {\n",
       "        vertical-align: middle;\n",
       "    }\n",
       "\n",
       "    .dataframe tbody tr th {\n",
       "        vertical-align: top;\n",
       "    }\n",
       "\n",
       "    .dataframe thead th {\n",
       "        text-align: right;\n",
       "    }\n",
       "</style>\n",
       "<table border=\"1\" class=\"dataframe\">\n",
       "  <thead>\n",
       "    <tr style=\"text-align: right;\">\n",
       "      <th></th>\n",
       "      <th>Name</th>\n",
       "      <th>Id</th>\n",
       "      <th>Course</th>\n",
       "      <th>Batch</th>\n",
       "    </tr>\n",
       "  </thead>\n",
       "  <tbody>\n",
       "    <tr>\n",
       "      <th>0</th>\n",
       "      <td>Vishnu</td>\n",
       "      <td>145</td>\n",
       "      <td>ML</td>\n",
       "      <td>C1</td>\n",
       "    </tr>\n",
       "    <tr>\n",
       "      <th>1</th>\n",
       "      <td>Ram</td>\n",
       "      <td>156</td>\n",
       "      <td>GenAI</td>\n",
       "      <td>C2</td>\n",
       "    </tr>\n",
       "    <tr>\n",
       "      <th>2</th>\n",
       "      <td>Bharat</td>\n",
       "      <td>88</td>\n",
       "      <td>Python</td>\n",
       "      <td>C1</td>\n",
       "    </tr>\n",
       "  </tbody>\n",
       "</table>\n",
       "</div>"
      ],
      "text/plain": [
       "     Name   Id  Course Batch\n",
       "0  Vishnu  145      ML    C1\n",
       "1     Ram  156   GenAI    C2\n",
       "2  Bharat   88  Python    C1"
      ]
     },
     "execution_count": 8,
     "metadata": {},
     "output_type": "execute_result"
    }
   ],
   "source": [
    "# Update an exising column values : just an assignment\n",
    "DF['Id'] = [145, 156, 88]\n",
    "DF"
   ]
  },
  {
   "cell_type": "code",
   "execution_count": 9,
   "metadata": {},
   "outputs": [
    {
     "data": {
      "text/html": [
       "<div>\n",
       "<style scoped>\n",
       "    .dataframe tbody tr th:only-of-type {\n",
       "        vertical-align: middle;\n",
       "    }\n",
       "\n",
       "    .dataframe tbody tr th {\n",
       "        vertical-align: top;\n",
       "    }\n",
       "\n",
       "    .dataframe thead th {\n",
       "        text-align: right;\n",
       "    }\n",
       "</style>\n",
       "<table border=\"1\" class=\"dataframe\">\n",
       "  <thead>\n",
       "    <tr style=\"text-align: right;\">\n",
       "      <th></th>\n",
       "      <th>Name</th>\n",
       "      <th>Id</th>\n",
       "      <th>Course</th>\n",
       "      <th>Batch</th>\n",
       "      <th>Score</th>\n",
       "    </tr>\n",
       "  </thead>\n",
       "  <tbody>\n",
       "    <tr>\n",
       "      <th>0</th>\n",
       "      <td>Vishnu</td>\n",
       "      <td>145</td>\n",
       "      <td>ML</td>\n",
       "      <td>C1</td>\n",
       "      <td>78</td>\n",
       "    </tr>\n",
       "    <tr>\n",
       "      <th>1</th>\n",
       "      <td>Ram</td>\n",
       "      <td>156</td>\n",
       "      <td>GenAI</td>\n",
       "      <td>C2</td>\n",
       "      <td>85</td>\n",
       "    </tr>\n",
       "    <tr>\n",
       "      <th>2</th>\n",
       "      <td>Bharat</td>\n",
       "      <td>88</td>\n",
       "      <td>Python</td>\n",
       "      <td>C1</td>\n",
       "      <td>80</td>\n",
       "    </tr>\n",
       "  </tbody>\n",
       "</table>\n",
       "</div>"
      ],
      "text/plain": [
       "     Name   Id  Course Batch  Score\n",
       "0  Vishnu  145      ML    C1     78\n",
       "1     Ram  156   GenAI    C2     85\n",
       "2  Bharat   88  Python    C1     80"
      ]
     },
     "execution_count": 9,
     "metadata": {},
     "output_type": "execute_result"
    }
   ],
   "source": [
    "# Add another column, again just like a variable assignment\n",
    "DF ['Score'] = [78, 85, 80]\n",
    "DF"
   ]
  },
  {
   "cell_type": "code",
   "execution_count": 10,
   "metadata": {},
   "outputs": [
    {
     "data": {
      "text/html": [
       "<div>\n",
       "<style scoped>\n",
       "    .dataframe tbody tr th:only-of-type {\n",
       "        vertical-align: middle;\n",
       "    }\n",
       "\n",
       "    .dataframe tbody tr th {\n",
       "        vertical-align: top;\n",
       "    }\n",
       "\n",
       "    .dataframe thead th {\n",
       "        text-align: right;\n",
       "    }\n",
       "</style>\n",
       "<table border=\"1\" class=\"dataframe\">\n",
       "  <thead>\n",
       "    <tr style=\"text-align: right;\">\n",
       "      <th></th>\n",
       "      <th>Name</th>\n",
       "      <th>Id</th>\n",
       "      <th>Course</th>\n",
       "      <th>Batch</th>\n",
       "      <th>Score</th>\n",
       "    </tr>\n",
       "  </thead>\n",
       "  <tbody>\n",
       "    <tr>\n",
       "      <th>0</th>\n",
       "      <td>Dileep</td>\n",
       "      <td>101</td>\n",
       "      <td>GenAI</td>\n",
       "      <td>C1</td>\n",
       "      <td>80</td>\n",
       "    </tr>\n",
       "    <tr>\n",
       "      <th>1</th>\n",
       "      <td>Phani</td>\n",
       "      <td>102</td>\n",
       "      <td>ML</td>\n",
       "      <td>C2</td>\n",
       "      <td>75</td>\n",
       "    </tr>\n",
       "  </tbody>\n",
       "</table>\n",
       "</div>"
      ],
      "text/plain": [
       "     Name   Id Course Batch  Score\n",
       "0  Dileep  101  GenAI    C1     80\n",
       "1   Phani  102     ML    C2     75"
      ]
     },
     "execution_count": 10,
     "metadata": {},
     "output_type": "execute_result"
    }
   ],
   "source": [
    "# Add Rows by concatenating\n",
    "new_rec = pd.DataFrame ({\n",
    "                        'Name' : ['Dileep', 'Phani'],\n",
    "                        'Id' : [101, 102],\n",
    "                        'Course' : ['GenAI', 'ML'],\n",
    "                        'Batch' : ['C1', 'C2'],\n",
    "                        'Score' : [80, 75]\n",
    "})\n",
    "new_rec"
   ]
  },
  {
   "cell_type": "code",
   "execution_count": 11,
   "metadata": {},
   "outputs": [
    {
     "data": {
      "text/html": [
       "<div>\n",
       "<style scoped>\n",
       "    .dataframe tbody tr th:only-of-type {\n",
       "        vertical-align: middle;\n",
       "    }\n",
       "\n",
       "    .dataframe tbody tr th {\n",
       "        vertical-align: top;\n",
       "    }\n",
       "\n",
       "    .dataframe thead th {\n",
       "        text-align: right;\n",
       "    }\n",
       "</style>\n",
       "<table border=\"1\" class=\"dataframe\">\n",
       "  <thead>\n",
       "    <tr style=\"text-align: right;\">\n",
       "      <th></th>\n",
       "      <th>Name</th>\n",
       "      <th>Id</th>\n",
       "      <th>Course</th>\n",
       "      <th>Batch</th>\n",
       "      <th>Score</th>\n",
       "    </tr>\n",
       "  </thead>\n",
       "  <tbody>\n",
       "    <tr>\n",
       "      <th>0</th>\n",
       "      <td>Vishnu</td>\n",
       "      <td>145</td>\n",
       "      <td>ML</td>\n",
       "      <td>C1</td>\n",
       "      <td>78</td>\n",
       "    </tr>\n",
       "    <tr>\n",
       "      <th>1</th>\n",
       "      <td>Ram</td>\n",
       "      <td>156</td>\n",
       "      <td>GenAI</td>\n",
       "      <td>C2</td>\n",
       "      <td>85</td>\n",
       "    </tr>\n",
       "    <tr>\n",
       "      <th>2</th>\n",
       "      <td>Bharat</td>\n",
       "      <td>88</td>\n",
       "      <td>Python</td>\n",
       "      <td>C1</td>\n",
       "      <td>80</td>\n",
       "    </tr>\n",
       "    <tr>\n",
       "      <th>3</th>\n",
       "      <td>Dileep</td>\n",
       "      <td>101</td>\n",
       "      <td>GenAI</td>\n",
       "      <td>C1</td>\n",
       "      <td>80</td>\n",
       "    </tr>\n",
       "    <tr>\n",
       "      <th>4</th>\n",
       "      <td>Phani</td>\n",
       "      <td>102</td>\n",
       "      <td>ML</td>\n",
       "      <td>C2</td>\n",
       "      <td>75</td>\n",
       "    </tr>\n",
       "  </tbody>\n",
       "</table>\n",
       "</div>"
      ],
      "text/plain": [
       "     Name   Id  Course Batch  Score\n",
       "0  Vishnu  145      ML    C1     78\n",
       "1     Ram  156   GenAI    C2     85\n",
       "2  Bharat   88  Python    C1     80\n",
       "3  Dileep  101   GenAI    C1     80\n",
       "4   Phani  102      ML    C2     75"
      ]
     },
     "execution_count": 11,
     "metadata": {},
     "output_type": "execute_result"
    }
   ],
   "source": [
    "DF = pd.concat ([DF, new_rec], ignore_index=True)\n",
    "DF"
   ]
  },
  {
   "cell_type": "code",
   "execution_count": 12,
   "metadata": {},
   "outputs": [
    {
     "name": "stdout",
     "output_type": "stream",
     "text": [
      "Min Score :  75\n",
      "Max Score :  85\n",
      "Mean Score :  79.6\n",
      "Median Score :  80.0\n"
     ]
    }
   ],
   "source": [
    "# Aggregating functions. See how the column is accessed\n",
    "print (\"Min Score : \", DF.Score.min())\n",
    "print (\"Max Score : \", DF.Score.max())\n",
    "print (\"Mean Score : \", DF.Score.mean())\n",
    "print (\"Median Score : \", DF.Score.median())"
   ]
  },
  {
   "cell_type": "code",
   "execution_count": 13,
   "metadata": {},
   "outputs": [
    {
     "data": {
      "text/plain": [
       "Course\n",
       "GenAI     85\n",
       "ML        78\n",
       "Python    80\n",
       "Name: Max , dtype: int64"
      ]
     },
     "execution_count": 13,
     "metadata": {},
     "output_type": "execute_result"
    }
   ],
   "source": [
    "# Check the Max score per course : Use Group by\n",
    "grp = DF.groupby ('Course') ['Score'].max ().rename (\"Max \")\n",
    "grp"
   ]
  },
  {
   "cell_type": "code",
   "execution_count": 14,
   "metadata": {},
   "outputs": [
    {
     "name": "stdout",
     "output_type": "stream",
     "text": [
      "Index Name     object\n",
      "Date           object\n",
      "Open          float64\n",
      "High          float64\n",
      "Low           float64\n",
      "Close         float64\n",
      "dtype: object\n"
     ]
    }
   ],
   "source": [
    "# Read data from a CSV file into Data Frame\n",
    "Index_Data = pd.read_csv ('Index.csv')\n",
    "print (Index_Data.dtypes)"
   ]
  },
  {
   "cell_type": "code",
   "execution_count": null,
   "metadata": {},
   "outputs": [
    {
     "name": "stdout",
     "output_type": "stream",
     "text": [
      "Index Name            object\n",
      "Date          datetime64[ns]\n",
      "Open                 float64\n",
      "High                 float64\n",
      "Low                  float64\n",
      "Close                float64\n",
      "dtype: object\n"
     ]
    },
    {
     "data": {
      "text/html": [
       "<div>\n",
       "<style scoped>\n",
       "    .dataframe tbody tr th:only-of-type {\n",
       "        vertical-align: middle;\n",
       "    }\n",
       "\n",
       "    .dataframe tbody tr th {\n",
       "        vertical-align: top;\n",
       "    }\n",
       "\n",
       "    .dataframe thead th {\n",
       "        text-align: right;\n",
       "    }\n",
       "</style>\n",
       "<table border=\"1\" class=\"dataframe\">\n",
       "  <thead>\n",
       "    <tr style=\"text-align: right;\">\n",
       "      <th></th>\n",
       "      <th>Index Name</th>\n",
       "      <th>Date</th>\n",
       "      <th>Open</th>\n",
       "      <th>High</th>\n",
       "      <th>Low</th>\n",
       "      <th>Close</th>\n",
       "    </tr>\n",
       "  </thead>\n",
       "  <tbody>\n",
       "    <tr>\n",
       "      <th>0</th>\n",
       "      <td>NIFTY 50</td>\n",
       "      <td>2025-06-13</td>\n",
       "      <td>24473.00</td>\n",
       "      <td>24754.35</td>\n",
       "      <td>24473.00</td>\n",
       "      <td>24718.60</td>\n",
       "    </tr>\n",
       "    <tr>\n",
       "      <th>1</th>\n",
       "      <td>NIFTY 50</td>\n",
       "      <td>2025-06-12</td>\n",
       "      <td>25164.45</td>\n",
       "      <td>25196.20</td>\n",
       "      <td>24825.90</td>\n",
       "      <td>24888.20</td>\n",
       "    </tr>\n",
       "    <tr>\n",
       "      <th>2</th>\n",
       "      <td>NIFTY 50</td>\n",
       "      <td>2025-06-11</td>\n",
       "      <td>25134.15</td>\n",
       "      <td>25222.40</td>\n",
       "      <td>25081.30</td>\n",
       "      <td>25141.40</td>\n",
       "    </tr>\n",
       "    <tr>\n",
       "      <th>3</th>\n",
       "      <td>NIFTY 50</td>\n",
       "      <td>2025-06-10</td>\n",
       "      <td>25196.05</td>\n",
       "      <td>25199.30</td>\n",
       "      <td>25055.45</td>\n",
       "      <td>25104.25</td>\n",
       "    </tr>\n",
       "    <tr>\n",
       "      <th>4</th>\n",
       "      <td>NIFTY 50</td>\n",
       "      <td>2025-06-09</td>\n",
       "      <td>25160.10</td>\n",
       "      <td>25160.10</td>\n",
       "      <td>25077.15</td>\n",
       "      <td>25103.20</td>\n",
       "    </tr>\n",
       "    <tr>\n",
       "      <th>...</th>\n",
       "      <td>...</td>\n",
       "      <td>...</td>\n",
       "      <td>...</td>\n",
       "      <td>...</td>\n",
       "      <td>...</td>\n",
       "      <td>...</td>\n",
       "    </tr>\n",
       "    <tr>\n",
       "      <th>252</th>\n",
       "      <td>NIFTY 50</td>\n",
       "      <td>2024-06-07</td>\n",
       "      <td>22821.85</td>\n",
       "      <td>23320.20</td>\n",
       "      <td>22789.05</td>\n",
       "      <td>23290.15</td>\n",
       "    </tr>\n",
       "    <tr>\n",
       "      <th>253</th>\n",
       "      <td>NIFTY 50</td>\n",
       "      <td>2024-06-06</td>\n",
       "      <td>22798.60</td>\n",
       "      <td>22910.15</td>\n",
       "      <td>22642.60</td>\n",
       "      <td>22821.40</td>\n",
       "    </tr>\n",
       "    <tr>\n",
       "      <th>254</th>\n",
       "      <td>NIFTY 50</td>\n",
       "      <td>2024-06-05</td>\n",
       "      <td>22128.35</td>\n",
       "      <td>22670.40</td>\n",
       "      <td>21791.95</td>\n",
       "      <td>22620.35</td>\n",
       "    </tr>\n",
       "    <tr>\n",
       "      <th>255</th>\n",
       "      <td>NIFTY 50</td>\n",
       "      <td>2024-06-04</td>\n",
       "      <td>23179.50</td>\n",
       "      <td>23179.50</td>\n",
       "      <td>21281.45</td>\n",
       "      <td>21884.50</td>\n",
       "    </tr>\n",
       "    <tr>\n",
       "      <th>256</th>\n",
       "      <td>NIFTY 50</td>\n",
       "      <td>2024-06-03</td>\n",
       "      <td>23337.90</td>\n",
       "      <td>23338.70</td>\n",
       "      <td>23062.30</td>\n",
       "      <td>23263.90</td>\n",
       "    </tr>\n",
       "  </tbody>\n",
       "</table>\n",
       "<p>257 rows × 6 columns</p>\n",
       "</div>"
      ],
      "text/plain": [
       "    Index Name       Date      Open      High       Low     Close\n",
       "0     NIFTY 50 2025-06-13  24473.00  24754.35  24473.00  24718.60\n",
       "1     NIFTY 50 2025-06-12  25164.45  25196.20  24825.90  24888.20\n",
       "2     NIFTY 50 2025-06-11  25134.15  25222.40  25081.30  25141.40\n",
       "3     NIFTY 50 2025-06-10  25196.05  25199.30  25055.45  25104.25\n",
       "4     NIFTY 50 2025-06-09  25160.10  25160.10  25077.15  25103.20\n",
       "..         ...        ...       ...       ...       ...       ...\n",
       "252   NIFTY 50 2024-06-07  22821.85  23320.20  22789.05  23290.15\n",
       "253   NIFTY 50 2024-06-06  22798.60  22910.15  22642.60  22821.40\n",
       "254   NIFTY 50 2024-06-05  22128.35  22670.40  21791.95  22620.35\n",
       "255   NIFTY 50 2024-06-04  23179.50  23179.50  21281.45  21884.50\n",
       "256   NIFTY 50 2024-06-03  23337.90  23338.70  23062.30  23263.90\n",
       "\n",
       "[257 rows x 6 columns]"
      ]
     },
     "execution_count": 15,
     "metadata": {},
     "output_type": "execute_result"
    }
   ],
   "source": [
    "# Change the Date field to datetime type\n",
    "Index_Data['Date'] = pd.to_datetime(Index_Data['Date'])\n",
    "print (Index_Data.dtypes)\n",
    "Index_Data"
   ]
  },
  {
   "cell_type": "code",
   "execution_count": null,
   "metadata": {},
   "outputs": [],
   "source": [
    "# Identify the days where Close price is higher than open.\n",
    "# By filtering\n",
    "\n",
    "Green_Days = Index_Data.loc [Index_Data['Close'] > Index_Data ['Open'], :]\n",
    "print (len(Green_Days))\n",
    "Green_Days"
   ]
  },
  {
   "cell_type": "code",
   "execution_count": null,
   "metadata": {},
   "outputs": [],
   "source": [
    "# Identify the days where Close price is at least 0.5% higher than the Open price\n",
    "Proper_Green_Days = Index_Data [Index_Data['Close'] > (Index_Data ['Open'] * 1.005)]\n",
    "Proper_Green_Days = Proper_Green_Days.sort_values (by='Date')\n",
    "\n",
    "print (len(Proper_Green_Days))\n",
    "Proper_Green_Days"
   ]
  },
  {
   "cell_type": "code",
   "execution_count": null,
   "metadata": {},
   "outputs": [],
   "source": [
    "# Identify the Previous day close, by shifting\n",
    "Index_Data.sort_values (by='Date', inplace=True)\n",
    "Index_Data ['PDC'] = Index_Data['Close'].shift (1)\n",
    "Index_Data\n"
   ]
  },
  {
   "cell_type": "code",
   "execution_count": null,
   "metadata": {},
   "outputs": [],
   "source": [
    "# identify the gap up days (at least .5% from previous day close)\n",
    "Gap_Up_Days = Index_Data[Index_Data['Open'] > (Index_Data['PDC'] * 1.005)]\n",
    "print (len(Gap_Up_Days))\n",
    "Gap_Up_Days"
   ]
  }
 ],
 "metadata": {
  "kernelspec": {
   "display_name": "Test_2",
   "language": "python",
   "name": "python3"
  },
  "language_info": {
   "codemirror_mode": {
    "name": "ipython",
    "version": 3
   },
   "file_extension": ".py",
   "mimetype": "text/x-python",
   "name": "python",
   "nbconvert_exporter": "python",
   "pygments_lexer": "ipython3",
   "version": "3.13.4"
  }
 },
 "nbformat": 4,
 "nbformat_minor": 2
}
